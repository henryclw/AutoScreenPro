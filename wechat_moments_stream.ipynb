{
 "cells": [
  {
   "cell_type": "code",
   "execution_count": null,
   "id": "dd831a0a-a5a7-4869-b53e-6594fa0f9778",
   "metadata": {},
   "outputs": [],
   "source": [
    "import logging\n",
    "logger = logging.getLogger()\n",
    "logger.setLevel(logging.DEBUG)\n",
    "logging.debug(\"test\")"
   ]
  },
  {
   "cell_type": "code",
   "execution_count": null,
   "id": "a2b72d20-4f7d-4666-a8d3-a796276da5b9",
   "metadata": {
    "editable": true,
    "slideshow": {
     "slide_type": ""
    },
    "tags": []
   },
   "outputs": [],
   "source": [
    "from AutoScreen.AndroidScreen import ADBPropertiesHelper, AndroidController, UINode\n",
    "\n",
    "import cv2\n",
    "import xml.etree.ElementTree as ET\n",
    "from script.utils import add_text_with_transparent_bg, draw_bbox_multi, AndroidUIHelper\n",
    "import os"
   ]
  },
  {
   "cell_type": "code",
   "execution_count": null,
   "id": "c44c6b7a-ac5d-4552-9e9c-bb6b60708770",
   "metadata": {},
   "outputs": [],
   "source": [
    "temp_data_base_dir = os.path.join(\"data\", \"temp\")"
   ]
  },
  {
   "cell_type": "code",
   "execution_count": null,
   "id": "766018e6-5929-41ab-b13c-2f6f047bd587",
   "metadata": {},
   "outputs": [],
   "source": [
    "for _ in range(3):\n",
    "    try:\n",
    "        android_controller = AndroidController()\n",
    "        screenshot_raw_path = android_controller.get_screenshot(\"wechat_moment\", temp_data_base_dir)\n",
    "        xml_raw_path = android_controller.get_xml(\"wechat_moment\", temp_data_base_dir)\n",
    "        logging.info(f\"Successfully saved screenshot and ui xml for {android_controller.device}\")\n",
    "        break\n",
    "    except RuntimeError as e:\n",
    "        android_controller.reopen_app_by_going_to_homescreen()"
   ]
  },
  {
   "cell_type": "code",
   "execution_count": null,
   "id": "23897e04-648b-422c-a8df-053ace4384c7",
   "metadata": {},
   "outputs": [],
   "source": []
  },
  {
   "cell_type": "code",
   "execution_count": null,
   "id": "b34d46a9-0e46-4f63-a04e-d04836588773",
   "metadata": {
    "editable": true,
    "slideshow": {
     "slide_type": ""
    },
    "tags": []
   },
   "outputs": [],
   "source": [
    "from IPython.display import display, Image\n",
    "# display(Image('data/temp/wechat_moment.png'))\n",
    "display(Image(screenshot_raw_path))"
   ]
  },
  {
   "cell_type": "code",
   "execution_count": null,
   "id": "220752be-cd16-4cbc-80cd-4bfa0fcb4940",
   "metadata": {
    "editable": true,
    "slideshow": {
     "slide_type": ""
    },
    "tags": []
   },
   "outputs": [],
   "source": []
  },
  {
   "cell_type": "code",
   "execution_count": null,
   "id": "1f2990cb-fae1-4caf-bfe7-cb1e9a1339f0",
   "metadata": {},
   "outputs": [],
   "source": []
  },
  {
   "cell_type": "code",
   "execution_count": null,
   "id": "a81913bc-9a95-454d-82fe-fa7418c98fc1",
   "metadata": {},
   "outputs": [],
   "source": [
    "\n",
    "tree = ET.parse(xml_raw_path)\n",
    "root = tree.getroot()"
   ]
  },
  {
   "cell_type": "code",
   "execution_count": null,
   "id": "4a5febd2-66ce-4404-9418-2d0a5ff912fe",
   "metadata": {},
   "outputs": [],
   "source": [
    "ui_node_list = []\n",
    "for ele in tree.iter():\n",
    "    if ele.attrib.get(\"clickable\", \"false\") == \"true\":\n",
    "    # if ele.attrib.get(\"clickable\", \"false\") == \"true\" or ele.attrib.get(\"focusable\", \"false\") == \"true\":\n",
    "        print(ele, ele.attrib)        \n",
    "        left, high, right, low = AndroidUIHelper.get_box_from_bounds_raw_str(bounds=ele.attrib.get(\"bounds\"))\n",
    "        name = ele.attrib.get(\"resource-id\", \"no-resource-id\").split('/')[-1]\n",
    "        if name is None:\n",
    "            name = ele.attrib.get(\"content-desc\", \"no-content-desc\")\n",
    "        ui_node_list.append(UINode(name, ((left, high), (right, low)), ele.attrib))"
   ]
  },
  {
   "cell_type": "code",
   "execution_count": null,
   "id": "09a71aba-3733-434c-bc0e-3e847c9f908e",
   "metadata": {},
   "outputs": [],
   "source": [
    "len(ui_node_list)"
   ]
  },
  {
   "cell_type": "code",
   "execution_count": null,
   "id": "4ab73a83-bf30-4762-b27e-6652ffb79a6c",
   "metadata": {},
   "outputs": [],
   "source": [
    "ui_node_list"
   ]
  },
  {
   "cell_type": "code",
   "execution_count": null,
   "id": "0ea2434f-b953-4827-92a7-d088eaf763c0",
   "metadata": {},
   "outputs": [],
   "source": []
  },
  {
   "cell_type": "code",
   "execution_count": null,
   "id": "b3744079-664a-4b2e-9f9b-51b70fcf51a7",
   "metadata": {},
   "outputs": [],
   "source": [
    "draw_bbox_multi(screenshot_raw_path, temp_data_base_dir + \"/with_box.png\", ui_node_list)"
   ]
  },
  {
   "cell_type": "code",
   "execution_count": null,
   "id": "73311e0a-cb90-442c-8c64-099965f8fc8f",
   "metadata": {},
   "outputs": [],
   "source": [
    "from IPython.display import display, Image\n",
    "display(Image(temp_data_base_dir + \"/with_box.png\"))"
   ]
  },
  {
   "cell_type": "code",
   "execution_count": null,
   "id": "d43a6d6e-0bdd-4c79-b2e1-a90dafd919f3",
   "metadata": {},
   "outputs": [],
   "source": []
  },
  {
   "cell_type": "code",
   "execution_count": null,
   "id": "215d335c-488e-4ac8-b007-ed0f4cc35a62",
   "metadata": {},
   "outputs": [],
   "source": []
  },
  {
   "cell_type": "code",
   "execution_count": null,
   "id": "2b38841b-79f3-4cdb-8b1d-b7ac3b71a637",
   "metadata": {},
   "outputs": [],
   "source": [
    "root.findall(\".//*[@resource-id='com.tencent.mm:id/n9a']\")"
   ]
  },
  {
   "cell_type": "code",
   "execution_count": null,
   "id": "f76ce99a-5a90-47bf-905d-818a37a5cc36",
   "metadata": {},
   "outputs": [],
   "source": [
    "tree.findall(\".//*[@resource-id='com.tencent.mm:id/n9a']\")"
   ]
  },
  {
   "cell_type": "code",
   "execution_count": null,
   "id": "5a45f0a3-84e8-4491-a92f-9871c85a9839",
   "metadata": {},
   "outputs": [],
   "source": []
  },
  {
   "cell_type": "code",
   "execution_count": null,
   "id": "94659fa1-7eb9-4dd4-a53f-bb6078ecb082",
   "metadata": {},
   "outputs": [],
   "source": []
  },
  {
   "cell_type": "code",
   "execution_count": null,
   "id": "09a5470d-69ed-45ff-9f46-7a82c29864a3",
   "metadata": {},
   "outputs": [],
   "source": [
    "moment_node_list = tree.findall(\".//*[@resource-id='com.tencent.mm:id/n9a']\") + tree.findall(\".//*[@resource-id='com.tencent.mm:id/n9e']\")\n",
    "logging.info(f\"found {len(moment_node_list)} n9a / n9e node\")\n",
    "if len(moment_node_list) == 0:\n",
    "    logging.error(\"no moment found!\")\n",
    "    "
   ]
  },
  {
   "cell_type": "code",
   "execution_count": null,
   "id": "bc9d7cef-5de5-4c07-b9f7-99577df3a292",
   "metadata": {},
   "outputs": [],
   "source": [
    "for i, moment_node_i in enumerate(moment_node_list):\n",
    "    left, high, right, low = AndroidUIHelper.get_box_from_bounds_raw_str(bounds=moment_node_i.attrib.get(\"bounds\"))\n",
    "    # logging.info(\"this_moment_node is with a high that is too small, skipping it.\")\n",
    "    logging.info(f\"moment node {i}, high={high}, low={low}\")\n",
    "    if high > 192 and low < 1918:\n",
    "        logging.info(f\"choosing moment node {i}, with all the box visible\")\n",
    "        this_moment_low = low\n",
    "        this_moment_node = moment_node_i\n",
    "        break\n",
    "    logging.warning(\"no suitable moment found, skipping\")"
   ]
  },
  {
   "cell_type": "code",
   "execution_count": null,
   "id": "d59a7ce5-8ed6-41ab-a64d-7c6c15e0431a",
   "metadata": {},
   "outputs": [],
   "source": [
    "this_moment_tree = ET.ElementTree(this_moment_node)\n",
    "this_moment_tree.write(temp_data_base_dir + \"/this_moment_tree.xml\")"
   ]
  },
  {
   "cell_type": "code",
   "execution_count": null,
   "id": "1d39c30f-56ac-4a82-b147-cd286ea8ea74",
   "metadata": {},
   "outputs": [],
   "source": [
    "for ele in this_moment_tree.iter():\n",
    "    print(ele, ele.attrib)"
   ]
  },
  {
   "cell_type": "code",
   "execution_count": null,
   "id": "67eadb8d-9418-415d-9e46-da12d06845a0",
   "metadata": {},
   "outputs": [],
   "source": [
    "for i, node in enumerate(this_moment_tree.iter()):\n",
    "    resource_id = node.attrib.get(\"resource-id\", \"no-resource-id\")\n",
    "    content_desc = node.attrib.get(\"content-desc\", \"no-content-desc\")\n",
    "    text = node.attrib.get(\"text\", \"no-text\")\n",
    "    left, high, right, low = AndroidUIHelper.get_box_from_bounds_raw_str(bounds=node.attrib.get(\"bounds\"))\n",
    "    logging.debug(f\"itering within child nodes, {i}, {content_desc}, {text}, {left}, {high}, {right}, {low}\")\n",
    "    if resource_id == \"com.tencent.mm:id/n9a\":\n",
    "        logging.debug(f\"skipping this node {i}, it's a n9a, 朋友圈主node\")\n",
    "    elif resource_id == \"com.tencent.mm:id/n9e\":\n",
    "        logging.debug(f\"skipping this node {i}, it's a n9e, 朋友圈主node\")\n",
    "    elif resource_id == \"com.tencent.mm:id/od\":\n",
    "        logging.debug(f\"skipping this node {i}, it's a od, 头像\")\n",
    "    elif resource_id == \"com.tencent.mm:id/n96\":\n",
    "        n96 = text\n",
    "        if len(n96) > 0:\n",
    "            # TODO: 被折叠的朋友圈\n",
    "            print(n96)\n",
    "            logging.info(f\"found n96, 被折叠的朋友圈 is {n96}\")\n",
    "        else:\n",
    "            logging.debug(f\"skipping this node {i}, it's a n96 and length is 0, 被折叠的朋友圈\")\n",
    "    elif resource_id == \"com.tencent.mm:id/kbq\":\n",
    "        kbq = text\n",
    "        # TODO: 保存用户\n",
    "        print(kbq)\n",
    "        logging.info(f\"found kbq, user is {kbq}\")\n",
    "    elif resource_id == \"com.tencent.mm:id/h9t\":\n",
    "        logging.debug(f\"skipping this node {i}, it's a h9t, odj的父节点\")\n",
    "    elif resource_id == \"com.tencent.mm:id/odj\":\n",
    "        odj = text\n",
    "        # TODO: 保存分享链接标题\n",
    "        print(odj)\n",
    "        logging.info(f\"found odj, 分享链接标题 is {odj}\")\n",
    "    elif resource_id == \"com.tencent.mm:id/cuf\" or resource_id == \"com.tencent.mm:id/cut\":\n",
    "        cuf_cut = text\n",
    "        if len(cuf_cut) > 0:\n",
    "            # TODO: 保存文字\n",
    "            print(cuf_cut)\n",
    "            logging.info(f\"found cuf_cut, 朋友圈内容文字 is {cuf_cut}\")\n",
    "        else:\n",
    "            logging.debug(f\"skipping this node {i}, it's a cuf / cut and length is 0\")\n",
    "    elif \"图片\" in content_desc:\n",
    "        # TODO: 保存图片\n",
    "        print(left, right, high, low)\n",
    "        logging.info(f\"found picture, left={left}, right={right}, high={high}, low={low}\")\n",
    "    elif resource_id == \"com.tencent.mm:id/r2\":\n",
    "        logging.debug(f\"skipping this node {i}, it's a r2, 评论区图标\")\n",
    "    elif resource_id == \"com.tencent.mm:id/hbr\":\n",
    "        logging.debug(f\"skipping this node {i}, it's a hbr, 点赞区图标\")\n",
    "    elif resource_id == \"com.tencent.mm:id/n9v\":\n",
    "        n9v = text\n",
    "        # TODO: 保存点赞的人\n",
    "        print(n9v)\n",
    "        logging.info(f\"found cut, 点赞的人 is {n9v}\")\n",
    "    elif resource_id == \"com.tencent.mm:id/c6p\":\n",
    "        c6p = text\n",
    "        # TODO: 保存此条评论\n",
    "        print(c6p)\n",
    "        logging.info(f\"found c6p, 此条评论 is {c6p}\")\n",
    "    elif text is not None and len(text) > 0:\n",
    "        if node.attrib.get(\"clickable\", \"false\") == \"true\":\n",
    "            # TODO: 保存地址?\n",
    "            logging.info(f\"found extra text, maybe location, text is {text}\")\n",
    "        else:\n",
    "            # TODO: 保存日期?\n",
    "            logging.info(f\"found extra text, maybe a datetime or location, text is {text}\")\n",
    "    else:\n",
    "        logging.debug(f\"ignoring this node, {i}, {node.attrib}\")"
   ]
  },
  {
   "cell_type": "code",
   "execution_count": null,
   "id": "9fc395e3-8b8e-44ad-ab9b-f3712317d953",
   "metadata": {},
   "outputs": [],
   "source": [
    "# this_avatar_node = this_moment_node.find(\".//*[@resource-id='com.tencent.mm:id/od']\")\n",
    "this_avatar_node = this_moment_node.find(\"*[@resource-id='com.tencent.mm:id/od']\")\n"
   ]
  },
  {
   "cell_type": "code",
   "execution_count": null,
   "id": "8bdc547d-cb3b-45b3-a3a9-32228328334b",
   "metadata": {},
   "outputs": [],
   "source": [
    "# bounds = this_avatar_node.attrib.get(\"bounds\", \"bounds\")\n",
    "# bounds = bounds.replace('[', '').replace(']', ',').split(',')\n",
    "# bounds = map(int, bounds[:4])\n",
    "left, high, right, low = AndroidUIHelper.get_box_from_bounds_raw_str(bounds=this_avatar_node.attrib.get(\"bounds\"))\n"
   ]
  },
  {
   "cell_type": "code",
   "execution_count": null,
   "id": "622ca868-038c-4094-b5d5-896fac8fb930",
   "metadata": {
    "scrolled": true
   },
   "outputs": [],
   "source": [
    "this_avatar_image = cv2.imread(screenshot_raw_path)[high:low, left:right]"
   ]
  },
  {
   "cell_type": "code",
   "execution_count": null,
   "id": "a115cc37-6ee4-481a-ac7f-cd480496cdf1",
   "metadata": {},
   "outputs": [],
   "source": [
    "cv2.imwrite(temp_data_base_dir + \"/this_avatar_image.png\", this_avatar_image)"
   ]
  },
  {
   "cell_type": "code",
   "execution_count": null,
   "id": "c049f2ec-d844-44e2-96d8-ee0d8293b4d4",
   "metadata": {},
   "outputs": [],
   "source": [
    "from IPython.display import display, Image\n",
    "display(Image(temp_data_base_dir + \"/this_avatar_image.png\"))"
   ]
  },
  {
   "cell_type": "code",
   "execution_count": null,
   "id": "3357311d-8217-47ce-97ec-05c8e4b7356c",
   "metadata": {},
   "outputs": [],
   "source": []
  },
  {
   "cell_type": "code",
   "execution_count": null,
   "id": "b22fab3b-17be-4c06-9ef7-886d151579f4",
   "metadata": {},
   "outputs": [],
   "source": [
    "next_swipe_up_distance = this_moment_low - 300\n",
    "logging.info(f\"finished this moment, moving to the next one, next_swipe_up_distance={next_swipe_up_distance}\")"
   ]
  }
 ],
 "metadata": {
  "kernelspec": {
   "display_name": "Python 3 (ipykernel)",
   "language": "python",
   "name": "python3"
  },
  "language_info": {
   "codemirror_mode": {
    "name": "ipython",
    "version": 3
   },
   "file_extension": ".py",
   "mimetype": "text/x-python",
   "name": "python",
   "nbconvert_exporter": "python",
   "pygments_lexer": "ipython3",
   "version": "3.12.1"
  }
 },
 "nbformat": 4,
 "nbformat_minor": 5
}
