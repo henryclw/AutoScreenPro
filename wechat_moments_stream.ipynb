{
 "cells": [
  {
   "cell_type": "code",
   "execution_count": null,
   "id": "7f326e2f-8029-4d01-9abc-a030f6aeb3b9",
   "metadata": {},
   "outputs": [],
   "source": [
    "from IPython.display import display, Image"
   ]
  },
  {
   "cell_type": "code",
   "execution_count": null,
   "id": "dd831a0a-a5a7-4869-b53e-6594fa0f9778",
   "metadata": {},
   "outputs": [],
   "source": [
    "import logging\n",
    "logger = logging.getLogger()\n",
    "logger.setLevel(logging.DEBUG)\n",
    "logging.debug(\"test\")"
   ]
  },
  {
   "cell_type": "code",
   "execution_count": null,
   "id": "a2b72d20-4f7d-4666-a8d3-a796276da5b9",
   "metadata": {
    "editable": true,
    "slideshow": {
     "slide_type": ""
    },
    "tags": []
   },
   "outputs": [],
   "source": [
    "from AutoScreen.AndroidScreen import ADBPropertiesHelper, AndroidController, UINode\n",
    "\n",
    "import cv2\n",
    "import xml.etree.ElementTree as ET\n",
    "from script.utils import add_text_with_transparent_bg, draw_bbox_multi, AndroidUIHelper\n",
    "import os\n",
    "import shutil"
   ]
  },
  {
   "cell_type": "code",
   "execution_count": null,
   "id": "0a8712ef-5815-4ef5-8402-83cca328ae0b",
   "metadata": {},
   "outputs": [],
   "source": []
  },
  {
   "cell_type": "code",
   "execution_count": null,
   "id": "c44c6b7a-ac5d-4552-9e9c-bb6b60708770",
   "metadata": {},
   "outputs": [],
   "source": [
    "temp_data_base_dir = os.path.join(\"data\", \"temp\")\n",
    "shutil.rmtree(temp_data_base_dir)\n",
    "os.makedirs(temp_data_base_dir)"
   ]
  },
  {
   "cell_type": "code",
   "execution_count": null,
   "id": "72be67ab-aa56-4ac2-90b1-413b3aec5e1d",
   "metadata": {},
   "outputs": [],
   "source": []
  },
  {
   "cell_type": "code",
   "execution_count": null,
   "id": "81017607-5000-4c98-ad6c-17c0f5af7afa",
   "metadata": {},
   "outputs": [],
   "source": [
    "# for round in range(10):"
   ]
  },
  {
   "cell_type": "code",
   "execution_count": null,
   "id": "766018e6-5929-41ab-b13c-2f6f047bd587",
   "metadata": {},
   "outputs": [],
   "source": [
    "for _ in range(3):\n",
    "    try:\n",
    "        android_controller = AndroidController()\n",
    "        screenshot_raw_path = android_controller.get_screenshot(\"wechat_moment\", temp_data_base_dir)\n",
    "        xml_raw_path = android_controller.get_xml(\"wechat_moment\", temp_data_base_dir)\n",
    "        logging.info(f\"Successfully saved screenshot and ui xml for {android_controller.device}\")\n",
    "        break\n",
    "    except RuntimeError as e:\n",
    "        android_controller.reopen_app_by_going_to_homescreen()"
   ]
  },
  {
   "cell_type": "code",
   "execution_count": null,
   "id": "b34d46a9-0e46-4f63-a04e-d04836588773",
   "metadata": {
    "editable": true,
    "slideshow": {
     "slide_type": ""
    },
    "tags": []
   },
   "outputs": [],
   "source": [
    "# display(Image(screenshot_raw_path))"
   ]
  },
  {
   "cell_type": "code",
   "execution_count": null,
   "id": "79a832ac-0f5a-4635-91f0-5a4db3555910",
   "metadata": {},
   "outputs": [],
   "source": [
    "tree = ET.parse(xml_raw_path)\n",
    "ui_node_list = []\n",
    "for ele in tree.iter():\n",
    "    if ele.attrib.get(\"clickable\", \"false\") == \"true\":\n",
    "    # if ele.attrib.get(\"clickable\", \"false\") == \"true\" or ele.attrib.get(\"focusable\", \"false\") == \"true\":   \n",
    "        left, high, right, low = AndroidUIHelper.get_box_from_bounds_raw_str(bounds=ele.attrib.get(\"bounds\"))\n",
    "        name = ele.attrib.get(\"resource-id\", \"no-resource-id\").split('/')[-1]\n",
    "        if name is None:\n",
    "            name = ele.attrib.get(\"content-desc\", \"no-content-desc\")\n",
    "        ui_node_list.append(UINode(name, ((left, high), (right, low)), ele.attrib))"
   ]
  },
  {
   "cell_type": "code",
   "execution_count": null,
   "id": "b5a0e91f-9b90-4d2f-ab9c-fe3188405ca6",
   "metadata": {},
   "outputs": [],
   "source": [
    "draw_bbox_multi(screenshot_raw_path, temp_data_base_dir + \"/with_box.png\", ui_node_list)\n",
    "\n",
    "# display(Image(temp_data_base_dir + \"/with_box.png\"))"
   ]
  },
  {
   "cell_type": "code",
   "execution_count": null,
   "id": "09a5470d-69ed-45ff-9f46-7a82c29864a3",
   "metadata": {},
   "outputs": [],
   "source": [
    "moment_node_list = tree.findall(\".//*[@resource-id='com.tencent.mm:id/n9a']\") + tree.findall(\".//*[@resource-id='com.tencent.mm:id/n9e']\")\n",
    "logging.info(f\"found {len(moment_node_list)} n9a / n9e node\")\n",
    "if len(moment_node_list) == 0:\n",
    "    logging.error(\"no moment found!\")"
   ]
  },
  {
   "cell_type": "code",
   "execution_count": null,
   "id": "bc9d7cef-5de5-4c07-b9f7-99577df3a292",
   "metadata": {},
   "outputs": [],
   "source": [
    "for i, moment_node_i in enumerate(moment_node_list):\n",
    "    left, high, right, low = AndroidUIHelper.get_box_from_bounds_raw_str(bounds=moment_node_i.attrib.get(\"bounds\"))\n",
    "    # logging.info(\"this_moment_node is with a high that is too small, skipping it.\")\n",
    "    logging.info(f\"moment node {i}, high={high}, low={low}\")\n",
    "    if high > 192 and low < 1918:\n",
    "        logging.info(f\"choosing moment node {i}, with all the box visible\")\n",
    "        this_moment_low = low\n",
    "        this_moment_node = moment_node_i\n",
    "        break\n",
    "    logging.warning(\"no suitable moment found, skipping\")"
   ]
  },
  {
   "cell_type": "code",
   "execution_count": null,
   "id": "d59a7ce5-8ed6-41ab-a64d-7c6c15e0431a",
   "metadata": {},
   "outputs": [],
   "source": [
    "this_moment_tree = ET.ElementTree(this_moment_node)\n",
    "this_moment_tree.write(temp_data_base_dir + \"/this_moment_tree.xml\")"
   ]
  },
  {
   "cell_type": "code",
   "execution_count": null,
   "id": "67eadb8d-9418-415d-9e46-da12d06845a0",
   "metadata": {},
   "outputs": [],
   "source": [
    "for i, node in enumerate(this_moment_tree.iter()):\n",
    "    resource_id = node.attrib.get(\"resource-id\", \"no-resource-id\")\n",
    "    content_desc = node.attrib.get(\"content-desc\", \"no-content-desc\")\n",
    "    text = node.attrib.get(\"text\", \"no-text\")\n",
    "    left, high, right, low = AndroidUIHelper.get_box_from_bounds_raw_str(bounds=node.attrib.get(\"bounds\"))\n",
    "    logging.debug(f\"itering within child nodes, {i}, {content_desc}, {text}, {left}, {high}, {right}, {low}\")\n",
    "    if resource_id == \"com.tencent.mm:id/n9a\":\n",
    "        logging.debug(f\"skipping this node {i}, it's a n9a, 朋友圈主node\")\n",
    "    elif resource_id == \"com.tencent.mm:id/n9e\":\n",
    "        logging.debug(f\"skipping this node {i}, it's a n9e, 朋友圈主node\")\n",
    "    elif resource_id == \"com.tencent.mm:id/od\":\n",
    "        this_avatar_image = cv2.imread(screenshot_raw_path)[high:low, left:right]\n",
    "        cv2.imwrite(temp_data_base_dir + \"/this_avatar_image.png\", this_avatar_image)\n",
    "        # display(Image(temp_data_base_dir + \"/this_avatar_image.png\"))\n",
    "        logging.info(f\"found od, left={left}, right={right}, high={high}, low={low}\")\n",
    "    elif resource_id == \"com.tencent.mm:id/n96\":\n",
    "        n96 = text\n",
    "        if len(n96) > 0:\n",
    "            # TODO: 被折叠的朋友圈\n",
    "            print(n96)\n",
    "            logging.info(f\"found n96, 被折叠的朋友圈 is {n96}\")\n",
    "        else:\n",
    "            logging.debug(f\"skipping this node {i}, it's a n96 and length is 0, 被折叠的朋友圈\")\n",
    "    elif resource_id == \"com.tencent.mm:id/kbq\":\n",
    "        kbq = text\n",
    "        # TODO: 保存用户\n",
    "        print(kbq)\n",
    "        logging.info(f\"found kbq, user is {kbq}\")\n",
    "    elif resource_id == \"com.tencent.mm:id/h9t\":\n",
    "        logging.debug(f\"skipping this node {i}, it's a h9t, odj的父节点\")\n",
    "    elif resource_id == \"com.tencent.mm:id/odj\":\n",
    "        odj = text\n",
    "        # TODO: 保存分享链接标题\n",
    "        print(odj)\n",
    "        logging.info(f\"found odj, 分享链接标题 is {odj}\")\n",
    "    elif resource_id == \"com.tencent.mm:id/cuf\" or resource_id == \"com.tencent.mm:id/cut\":\n",
    "        cuf_cut = text\n",
    "        if len(cuf_cut) > 0:\n",
    "            # TODO: 保存文字\n",
    "            print(cuf_cut)\n",
    "            logging.info(f\"found cuf_cut, 朋友圈内容文字 is {cuf_cut}\")\n",
    "        else:\n",
    "            logging.debug(f\"skipping this node {i}, it's a cuf / cut and length is 0\")\n",
    "    elif \"图片\" in content_desc:\n",
    "        # TODO: 保存图片\n",
    "        print(left, right, high, low)\n",
    "        logging.info(f\"found picture, left={left}, right={right}, high={high}, low={low}\")\n",
    "    elif resource_id == \"com.tencent.mm:id/r2\":\n",
    "        logging.debug(f\"skipping this node {i}, it's a r2, 评论区图标\")\n",
    "    elif resource_id == \"com.tencent.mm:id/hbr\":\n",
    "        logging.debug(f\"skipping this node {i}, it's a hbr, 点赞区图标\")\n",
    "    elif resource_id == \"com.tencent.mm:id/n9v\":\n",
    "        n9v = text\n",
    "        # TODO: 保存点赞的人\n",
    "        print(n9v)\n",
    "        logging.info(f\"found cut, 点赞的人 is {n9v}\")\n",
    "    elif resource_id == \"com.tencent.mm:id/c6p\":\n",
    "        c6p = text\n",
    "        # TODO: 保存此条评论\n",
    "        print(c6p)\n",
    "        logging.info(f\"found c6p, 此条评论 is {c6p}\")\n",
    "    elif text is not None and len(text) > 0:\n",
    "        if node.attrib.get(\"clickable\", \"false\") == \"true\":\n",
    "            # TODO: 保存地址?\n",
    "            logging.info(f\"found extra text, maybe location, text is {text}\")\n",
    "        else:\n",
    "            # TODO: 保存日期?\n",
    "            logging.info(f\"found extra text, maybe a datetime or location, text is {text}\")\n",
    "    else:\n",
    "        logging.debug(f\"ignoring this node, {i}, {node.attrib}\")"
   ]
  },
  {
   "cell_type": "code",
   "execution_count": null,
   "id": "b7f8c3c6-920d-4526-bec8-0d1fb43cff2d",
   "metadata": {},
   "outputs": [],
   "source": [
    "\n"
   ]
  },
  {
   "cell_type": "code",
   "execution_count": null,
   "id": "3357311d-8217-47ce-97ec-05c8e4b7356c",
   "metadata": {},
   "outputs": [],
   "source": []
  },
  {
   "cell_type": "code",
   "execution_count": null,
   "id": "b22fab3b-17be-4c06-9ef7-886d151579f4",
   "metadata": {},
   "outputs": [],
   "source": [
    "next_swipe_up_distance = this_moment_low - 300\n",
    "logging.info(f\"finished this moment, moving to the next one, next_swipe_up_distance={next_swipe_up_distance}\")"
   ]
  }
 ],
 "metadata": {
  "kernelspec": {
   "display_name": "Python 3 (ipykernel)",
   "language": "python",
   "name": "python3"
  },
  "language_info": {
   "codemirror_mode": {
    "name": "ipython",
    "version": 3
   },
   "file_extension": ".py",
   "mimetype": "text/x-python",
   "name": "python",
   "nbconvert_exporter": "python",
   "pygments_lexer": "ipython3",
   "version": "3.12.1"
  }
 },
 "nbformat": 4,
 "nbformat_minor": 5
}
