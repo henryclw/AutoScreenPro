{
 "cells": [
  {
   "cell_type": "code",
   "execution_count": null,
   "id": "dd831a0a-a5a7-4869-b53e-6594fa0f9778",
   "metadata": {},
   "outputs": [],
   "source": [
    "import logging\n",
    "logger = logging.getLogger()\n",
    "logger.setLevel(logging.DEBUG)\n",
    "logging.debug(\"test\")"
   ]
  },
  {
   "cell_type": "code",
   "execution_count": null,
   "id": "a2b72d20-4f7d-4666-a8d3-a796276da5b9",
   "metadata": {
    "editable": true,
    "slideshow": {
     "slide_type": ""
    },
    "tags": []
   },
   "outputs": [],
   "source": [
    "from AutoScreen.AndroidScreen import ADBPropertiesHelper, AndroidController, UINode\n",
    "\n",
    "import cv2\n",
    "import xml.etree.ElementTree as ET\n",
    "from script.utils import add_text_with_transparent_bg, draw_bbox_multi, AndroidUIHelper"
   ]
  },
  {
   "cell_type": "code",
   "execution_count": null,
   "id": "766018e6-5929-41ab-b13c-2f6f047bd587",
   "metadata": {},
   "outputs": [],
   "source": [
    "android_controller = AndroidController()\n",
    "screenshot_raw = android_controller.get_screenshot(\"wechat_moment\", \"data/temp\")\n",
    "xml_raw = android_controller.get_xml(\"wechat_moment\", \"data/temp\")"
   ]
  },
  {
   "cell_type": "code",
   "execution_count": null,
   "id": "b34d46a9-0e46-4f63-a04e-d04836588773",
   "metadata": {
    "editable": true,
    "slideshow": {
     "slide_type": ""
    },
    "tags": []
   },
   "outputs": [],
   "source": [
    "from IPython.display import display, Image\n",
    "display(Image('data/temp/wechat_moment.png'))"
   ]
  },
  {
   "cell_type": "code",
   "execution_count": null,
   "id": "220752be-cd16-4cbc-80cd-4bfa0fcb4940",
   "metadata": {
    "editable": true,
    "slideshow": {
     "slide_type": ""
    },
    "tags": []
   },
   "outputs": [],
   "source": []
  },
  {
   "cell_type": "code",
   "execution_count": null,
   "id": "1f2990cb-fae1-4caf-bfe7-cb1e9a1339f0",
   "metadata": {},
   "outputs": [],
   "source": []
  },
  {
   "cell_type": "code",
   "execution_count": null,
   "id": "a81913bc-9a95-454d-82fe-fa7418c98fc1",
   "metadata": {},
   "outputs": [],
   "source": [
    "\n",
    "tree = ET.parse(\"data/temp/wechat_moment.xml\")\n",
    "root = tree.getroot()"
   ]
  },
  {
   "cell_type": "code",
   "execution_count": null,
   "id": "4a5febd2-66ce-4404-9418-2d0a5ff912fe",
   "metadata": {},
   "outputs": [],
   "source": [
    "ui_node_list = []\n",
    "for ele in tree.iter():\n",
    "    if ele.attrib.get(\"clickable\", \"false\") == \"true\":\n",
    "    # if ele.attrib.get(\"clickable\", \"false\") == \"true\" or ele.attrib.get(\"focusable\", \"false\") == \"true\":\n",
    "        print(ele, ele.attrib)        \n",
    "        left, high, right, low = AndroidUIHelper.get_box_from_bounds_raw_str(bounds=ele.attrib.get(\"bounds\"))\n",
    "        name = ele.attrib.get(\"resource-id\", \"no-resource-id\").split('/')[-1]\n",
    "        if name is None:\n",
    "            name = ele.attrib.get(\"content-desc\", \"no-content-desc\")\n",
    "        ui_node_list.append(UINode(name, ((left, high), (right, low)), ele.attrib))"
   ]
  },
  {
   "cell_type": "code",
   "execution_count": null,
   "id": "09a71aba-3733-434c-bc0e-3e847c9f908e",
   "metadata": {},
   "outputs": [],
   "source": [
    "len(ui_node_list)"
   ]
  },
  {
   "cell_type": "code",
   "execution_count": null,
   "id": "4ab73a83-bf30-4762-b27e-6652ffb79a6c",
   "metadata": {},
   "outputs": [],
   "source": [
    "ui_node_list"
   ]
  },
  {
   "cell_type": "code",
   "execution_count": null,
   "id": "0ea2434f-b953-4827-92a7-d088eaf763c0",
   "metadata": {},
   "outputs": [],
   "source": []
  },
  {
   "cell_type": "code",
   "execution_count": null,
   "id": "b3744079-664a-4b2e-9f9b-51b70fcf51a7",
   "metadata": {},
   "outputs": [],
   "source": [
    "draw_bbox_multi(screenshot_raw, \"data/temp/with_box.png\", ui_node_list)"
   ]
  },
  {
   "cell_type": "code",
   "execution_count": null,
   "id": "73311e0a-cb90-442c-8c64-099965f8fc8f",
   "metadata": {},
   "outputs": [],
   "source": [
    "from IPython.display import display, Image\n",
    "display(Image('data/temp/with_box.png'))"
   ]
  },
  {
   "cell_type": "code",
   "execution_count": null,
   "id": "d43a6d6e-0bdd-4c79-b2e1-a90dafd919f3",
   "metadata": {},
   "outputs": [],
   "source": []
  },
  {
   "cell_type": "code",
   "execution_count": null,
   "id": "215d335c-488e-4ac8-b007-ed0f4cc35a62",
   "metadata": {},
   "outputs": [],
   "source": []
  },
  {
   "cell_type": "code",
   "execution_count": null,
   "id": "2b38841b-79f3-4cdb-8b1d-b7ac3b71a637",
   "metadata": {},
   "outputs": [],
   "source": [
    "root.findall(\".//*[@resource-id='com.tencent.mm:id/n9a']\")"
   ]
  },
  {
   "cell_type": "code",
   "execution_count": null,
   "id": "f76ce99a-5a90-47bf-905d-818a37a5cc36",
   "metadata": {},
   "outputs": [],
   "source": [
    "tree.findall(\".//*[@resource-id='com.tencent.mm:id/n9a']\")"
   ]
  },
  {
   "cell_type": "code",
   "execution_count": null,
   "id": "5a45f0a3-84e8-4491-a92f-9871c85a9839",
   "metadata": {},
   "outputs": [],
   "source": []
  },
  {
   "cell_type": "code",
   "execution_count": null,
   "id": "94659fa1-7eb9-4dd4-a53f-bb6078ecb082",
   "metadata": {},
   "outputs": [],
   "source": []
  },
  {
   "cell_type": "code",
   "execution_count": null,
   "id": "09a5470d-69ed-45ff-9f46-7a82c29864a3",
   "metadata": {},
   "outputs": [],
   "source": [
    "moment_node_list = tree.findall(\".//*[@resource-id='com.tencent.mm:id/n9a']\")"
   ]
  },
  {
   "cell_type": "code",
   "execution_count": null,
   "id": "bc9d7cef-5de5-4c07-b9f7-99577df3a292",
   "metadata": {},
   "outputs": [],
   "source": [
    "this_moment_node = moment_node_list[1]"
   ]
  },
  {
   "cell_type": "code",
   "execution_count": null,
   "id": "d59a7ce5-8ed6-41ab-a64d-7c6c15e0431a",
   "metadata": {},
   "outputs": [],
   "source": [
    "this_moment_tree = ET.ElementTree(this_moment_node)\n",
    "this_moment_tree.write('data/temp/this_moment_tree.xml')"
   ]
  },
  {
   "cell_type": "code",
   "execution_count": null,
   "id": "1d39c30f-56ac-4a82-b147-cd286ea8ea74",
   "metadata": {},
   "outputs": [],
   "source": [
    "this_moment_node"
   ]
  },
  {
   "cell_type": "code",
   "execution_count": null,
   "id": "9fc395e3-8b8e-44ad-ab9b-f3712317d953",
   "metadata": {},
   "outputs": [],
   "source": [
    "# this_avatar_node = this_moment_node.find(\".//*[@resource-id='com.tencent.mm:id/od']\")\n",
    "this_avatar_node = this_moment_node.find(\"*[@resource-id='com.tencent.mm:id/od']\")\n"
   ]
  },
  {
   "cell_type": "code",
   "execution_count": null,
   "id": "8bdc547d-cb3b-45b3-a3a9-32228328334b",
   "metadata": {},
   "outputs": [],
   "source": [
    "# bounds = this_avatar_node.attrib.get(\"bounds\", \"bounds\")\n",
    "# bounds = bounds.replace('[', '').replace(']', ',').split(',')\n",
    "# bounds = map(int, bounds[:4])\n",
    "left, high, right, low = AndroidUIHelper.get_box_from_bounds_raw_str(bounds=this_avatar_node.attrib.get(\"bounds\"))\n"
   ]
  },
  {
   "cell_type": "code",
   "execution_count": null,
   "id": "622ca868-038c-4094-b5d5-896fac8fb930",
   "metadata": {
    "scrolled": true
   },
   "outputs": [],
   "source": [
    "this_avatar_image = cv2.imread(screenshot_raw)[high:low, left:right]"
   ]
  },
  {
   "cell_type": "code",
   "execution_count": null,
   "id": "a115cc37-6ee4-481a-ac7f-cd480496cdf1",
   "metadata": {},
   "outputs": [],
   "source": [
    "cv2.imwrite(\"data/temp/this_avatar_image.png\", this_avatar_image)"
   ]
  },
  {
   "cell_type": "code",
   "execution_count": null,
   "id": "c049f2ec-d844-44e2-96d8-ee0d8293b4d4",
   "metadata": {},
   "outputs": [],
   "source": [
    "from IPython.display import display, Image\n",
    "display(Image('data/temp/this_avatar_image.png'))"
   ]
  },
  {
   "cell_type": "code",
   "execution_count": null,
   "id": "3357311d-8217-47ce-97ec-05c8e4b7356c",
   "metadata": {},
   "outputs": [],
   "source": []
  },
  {
   "cell_type": "code",
   "execution_count": null,
   "id": "b22fab3b-17be-4c06-9ef7-886d151579f4",
   "metadata": {},
   "outputs": [],
   "source": []
  }
 ],
 "metadata": {
  "kernelspec": {
   "display_name": "Python 3 (ipykernel)",
   "language": "python",
   "name": "python3"
  },
  "language_info": {
   "codemirror_mode": {
    "name": "ipython",
    "version": 3
   },
   "file_extension": ".py",
   "mimetype": "text/x-python",
   "name": "python",
   "nbconvert_exporter": "python",
   "pygments_lexer": "ipython3",
   "version": "3.12.1"
  }
 },
 "nbformat": 4,
 "nbformat_minor": 5
}
