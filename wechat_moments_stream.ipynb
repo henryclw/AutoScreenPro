{
 "cells": [
  {
   "cell_type": "code",
   "execution_count": null,
   "id": "dd831a0a-a5a7-4869-b53e-6594fa0f9778",
   "metadata": {},
   "outputs": [],
   "source": [
    "import logging\n",
    "logger = logging.getLogger()\n",
    "logger.setLevel(logging.DEBUG)\n",
    "logging.debug(\"test\")"
   ]
  },
  {
   "cell_type": "code",
   "execution_count": null,
   "id": "a2b72d20-4f7d-4666-a8d3-a796276da5b9",
   "metadata": {
    "editable": true,
    "slideshow": {
     "slide_type": ""
    },
    "tags": []
   },
   "outputs": [],
   "source": [
    "from AutoScreen.AndroidScreen import ADBPropertiesHelper, AndroidController"
   ]
  },
  {
   "cell_type": "code",
   "execution_count": null,
   "id": "34940dcf-1034-414b-9827-9370c780e62d",
   "metadata": {},
   "outputs": [],
   "source": [
    "android_controller = AndroidController()"
   ]
  },
  {
   "cell_type": "code",
   "execution_count": null,
   "id": "5bd7bede-3d71-49f4-9ac7-279210e181e1",
   "metadata": {
    "editable": true,
    "slideshow": {
     "slide_type": ""
    },
    "tags": []
   },
   "outputs": [],
   "source": []
  },
  {
   "cell_type": "code",
   "execution_count": null,
   "id": "6584f49e-9937-49d6-aca7-1bcc41d0d49a",
   "metadata": {},
   "outputs": [],
   "source": [
    "screenshot_before = android_controller.get_screenshot(\"temp\", \"data\")"
   ]
  },
  {
   "cell_type": "code",
   "execution_count": null,
   "id": "bd05e84e-0de3-42e3-8138-0649c206f75b",
   "metadata": {},
   "outputs": [],
   "source": [
    "android_controller.get_xml(\"temp\", \"data\")"
   ]
  },
  {
   "cell_type": "code",
   "execution_count": null,
   "id": "b34d46a9-0e46-4f63-a04e-d04836588773",
   "metadata": {
    "editable": true,
    "slideshow": {
     "slide_type": ""
    },
    "tags": []
   },
   "outputs": [],
   "source": [
    "from IPython.display import display, Image\n",
    "display(Image('data/temp.png'))"
   ]
  },
  {
   "cell_type": "code",
   "execution_count": null,
   "id": "220752be-cd16-4cbc-80cd-4bfa0fcb4940",
   "metadata": {
    "editable": true,
    "slideshow": {
     "slide_type": ""
    },
    "tags": []
   },
   "outputs": [],
   "source": []
  },
  {
   "cell_type": "code",
   "execution_count": null,
   "id": "1f2990cb-fae1-4caf-bfe7-cb1e9a1339f0",
   "metadata": {},
   "outputs": [],
   "source": [
    "class UINode:\n",
    "    def __init__(self, uid, bbox, attrib):\n",
    "        self.uid = uid\n",
    "        self.bbox = bbox\n",
    "        self.attrib = attrib"
   ]
  },
  {
   "cell_type": "code",
   "execution_count": null,
   "id": "a81913bc-9a95-454d-82fe-fa7418c98fc1",
   "metadata": {},
   "outputs": [],
   "source": [
    "import xml.etree.ElementTree as ET\n",
    "tree = ET.parse(\"data/temp.xml\")\n",
    "root = tree.getroot()"
   ]
  },
  {
   "cell_type": "code",
   "execution_count": null,
   "id": "4a5febd2-66ce-4404-9418-2d0a5ff912fe",
   "metadata": {},
   "outputs": [],
   "source": [
    "ui_node_list = []\n",
    "for ele in tree.iter():\n",
    "    if ele.attrib.get(\"clickable\", \"false\") == \"true\":\n",
    "    # if ele.attrib.get(\"clickable\", \"false\") == \"true\" or ele.attrib.get(\"focusable\", \"false\") == \"true\":\n",
    "        print(ele, ele.attrib)\n",
    "        bounds = ele.attrib[\"bounds\"][1:-1].split(\"][\")\n",
    "        x1, y1 = map(int, bounds[0].split(\",\"))\n",
    "        x2, y2 = map(int, bounds[1].split(\",\"))\n",
    "        ui_node_list.append(UINode(ele.attrib.get(\"resource-id\", \"no-resource-id\").split('/')[-1], ((x1, y1), (x2, y2)), ele.attrib))"
   ]
  },
  {
   "cell_type": "code",
   "execution_count": null,
   "id": "09a71aba-3733-434c-bc0e-3e847c9f908e",
   "metadata": {},
   "outputs": [],
   "source": [
    "len(ui_node_list)"
   ]
  },
  {
   "cell_type": "code",
   "execution_count": null,
   "id": "4ab73a83-bf30-4762-b27e-6652ffb79a6c",
   "metadata": {},
   "outputs": [],
   "source": [
    "ui_node_list"
   ]
  },
  {
   "cell_type": "code",
   "execution_count": null,
   "id": "0ea2434f-b953-4827-92a7-d088eaf763c0",
   "metadata": {},
   "outputs": [],
   "source": [
    "import os\n",
    "import cv2\n",
    "from matplotlib.colors import CSS4_COLORS, to_rgb\n",
    "import random"
   ]
  },
  {
   "cell_type": "code",
   "execution_count": null,
   "id": "f9e12e52-2fd0-424f-9e34-a3a46cdcb4ca",
   "metadata": {},
   "outputs": [],
   "source": [
    "def add_text_with_transparent_bg(image, text, position, font=cv2.FONT_HERSHEY_SIMPLEX, font_scale=1, text_color=(255, 255, 255), bg_color=(128, 128, 128), alpha=0.5):\n",
    "    # Calculate text size\n",
    "    text_size = cv2.getTextSize(text, font, font_scale, 2)[0]\n",
    "    # Calculate background rectangle coordinates\n",
    "    x, y = position\n",
    "    bg_rect_start = (x, y)\n",
    "    bg_rect_end = (x + text_size[0] + 10, y + text_size[1] + 10)\n",
    "    # Create overlay for transparency\n",
    "    overlay = image.copy()\n",
    "    cv2.rectangle(overlay, bg_rect_start, bg_rect_end, bg_color, -1)\n",
    "    # Blend image and overlay with transparency\n",
    "    image = cv2.addWeighted(overlay, alpha, image, 1 - alpha, 0)\n",
    "    # Add text over rectangle\n",
    "    cv2.putText(image, text, (x + 5, y + 30), font, font_scale, text_color, 2, bottomLeftOrigin=False)\n",
    "    return image\n"
   ]
  },
  {
   "cell_type": "code",
   "execution_count": null,
   "id": "5543bc1d-3b72-4adb-9b97-dc6f6ebe6445",
   "metadata": {},
   "outputs": [],
   "source": [
    "def draw_bbox_multi(img_path, output_path, elem_list):\n",
    "    imgcv = cv2.imread(img_path)\n",
    "    count = 1\n",
    "    for elem in elem_list:\n",
    "        try:\n",
    "            top_left = elem.bbox[0]\n",
    "            bottom_right = elem.bbox[1]\n",
    "            left, top = top_left[0], top_left[1]\n",
    "            right, bottom = bottom_right[0], bottom_right[1]\n",
    "            label = str(count)\n",
    "            label = str(elem.uid)\n",
    "            text_color = to_rgb(random.choice(list(CSS4_COLORS.values())))\n",
    "            text_color = tuple(int(round(c * 255)) for c in text_color)\n",
    "            rectangle_shrink = 5\n",
    "            imgcv = add_text_with_transparent_bg(imgcv, label, (left + rectangle_shrink, top + rectangle_shrink), text_color=text_color)\n",
    "            imgcv = cv2.rectangle(imgcv, (left + rectangle_shrink, top + rectangle_shrink), (right - rectangle_shrink, bottom - rectangle_shrink), text_color, 2)\n",
    "        except Exception as e:\n",
    "            logging.error(f\"ERROR: An exception occurs while labeling the image\\n{e}\")\n",
    "        count += 1\n",
    "    cv2.imwrite(output_path, imgcv)\n",
    "    return"
   ]
  },
  {
   "cell_type": "code",
   "execution_count": null,
   "id": "b3744079-664a-4b2e-9f9b-51b70fcf51a7",
   "metadata": {},
   "outputs": [],
   "source": [
    "draw_bbox_multi(screenshot_before, \"data/with_box.png\", ui_node_list)"
   ]
  },
  {
   "cell_type": "code",
   "execution_count": null,
   "id": "73311e0a-cb90-442c-8c64-099965f8fc8f",
   "metadata": {},
   "outputs": [],
   "source": [
    "from IPython.display import display, Image\n",
    "display(Image('data/with_box.png'))"
   ]
  },
  {
   "cell_type": "code",
   "execution_count": null,
   "id": "80f4ef64-9566-4675-a2ca-9f431f8a106c",
   "metadata": {},
   "outputs": [],
   "source": []
  },
  {
   "cell_type": "code",
   "execution_count": null,
   "id": "4d18f86e-7daa-4db7-a86a-cede27ef661b",
   "metadata": {},
   "outputs": [],
   "source": []
  }
 ],
 "metadata": {
  "kernelspec": {
   "display_name": "Python 3 (ipykernel)",
   "language": "python",
   "name": "python3"
  },
  "language_info": {
   "codemirror_mode": {
    "name": "ipython",
    "version": 3
   },
   "file_extension": ".py",
   "mimetype": "text/x-python",
   "name": "python",
   "nbconvert_exporter": "python",
   "pygments_lexer": "ipython3",
   "version": "3.12.1"
  }
 },
 "nbformat": 4,
 "nbformat_minor": 5
}
